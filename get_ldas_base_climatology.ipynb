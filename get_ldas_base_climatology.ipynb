{
 "cells": [
  {
   "cell_type": "code",
   "execution_count": 2,
   "id": "25618c46",
   "metadata": {},
   "outputs": [],
   "source": [
    "import xarray as xr \n",
    "import pandas as pd\n",
    "import numpy as np\n",
    "import os"
   ]
  },
  {
   "cell_type": "markdown",
   "id": "25f62b5a",
   "metadata": {},
   "source": [
    "## Functions"
   ]
  },
  {
   "cell_type": "code",
   "execution_count": 3,
   "id": "fec2668f",
   "metadata": {},
   "outputs": [],
   "source": [
    "## Function to read and save forecast data ##\n",
    "## Create function to read data and save it in RAM as xarray Dataset\n",
    "def read_trim_forecast(file_path, va):\n",
    "    \"\"\"\n",
    "    Args:\n",
    "        file_path (str): directory of \n",
    "        va (str): variable we will be looking for \n",
    "\n",
    "    Return:\n",
    "        forecast_data (xarray.core.dataset.Dataset): trimmed dataset\n",
    "    \"\"\"\n",
    "    try:\n",
    "        forecast_data = xr.open_dataset(file_path)[va]\n",
    "        \n",
    "        # if initialization_date != None:\n",
    "           # forecast_data = forecast_data.sel(time=initialization_date)\n",
    "        # else:\n",
    "            #forecast_data = forecast_data.sel(time=-1)\n",
    "\n",
    "        return forecast_data\n",
    "    \n",
    "    except KeyError:\n",
    "        print(f'Variable {va} not found in dataset')"
   ]
  },
  {
   "cell_type": "code",
   "execution_count": 4,
   "id": "7f011eb0",
   "metadata": {},
   "outputs": [],
   "source": [
    "## Function to read and save hindcast data ##\n",
    "## Create function to read data and save it as netcdf file ##\n",
    "def read_trim_hindcast(file_path, va):\n",
    "    \"\"\"\n",
    "    Args:\n",
    "        file_path (str): file path to hindcast data\n",
    "        va (str): variable we will be looking for in the datatset\n",
    "    Returns:\n",
    "        hindcast_data (xarray.core.dataset.Dataset):\n",
    "    \"\"\"\n",
    "\n",
    "    try:\n",
    "        hindcast_data = xr.open_mfdataset(file_path)[va].chunk(dict(time=-1))\n",
    "        return hindcast_data\n",
    "    except KeyError:\n",
    "        print(f'Variable {va} not found in dataset')"
   ]
  },
  {
   "cell_type": "code",
   "execution_count": 5,
   "id": "ad47617a",
   "metadata": {},
   "outputs": [],
   "source": [
    "def initialize_climatology(hindcast_data_file_path, variable):\n",
    "    \"\"\"\n",
    "    Initialize climatology for the given variable from hindcast data.\n",
    "    \"\"\"\n",
    "    climatology = xr.open_mfdataset(hindcast_data_file_path)[variable]\n",
    "    climatology = climatology.groupby('time.month').mean(dim='time')\n",
    "    return climatology"
   ]
  },
  {
   "cell_type": "code",
   "execution_count": 13,
   "id": "a03673ea",
   "metadata": {},
   "outputs": [],
   "source": [
    "def get_anomaly(forecast_data_file_path, climatology, variable):\n",
    "    \"\"\"\n",
    "    Calculate the anomaly for the given variable using forecast data and climatology.\n",
    "    \"\"\"\n",
    "    forecast_data = xr.open_dataset(forecast_data_file_path)[variable]\n",
    "    anomaly = forecast_data - climatology\n",
    "    return anomaly"
   ]
  },
  {
   "cell_type": "markdown",
   "id": "bc58f74f",
   "metadata": {},
   "source": [
    "## Executable"
   ]
  },
  {
   "cell_type": "code",
   "execution_count": 6,
   "id": "47e4b2e4",
   "metadata": {},
   "outputs": [
    {
     "data": {
      "text/plain": [
       "['C:\\\\Users\\\\Kris\\\\Documents\\\\amazonforecast\\\\data\\\\hindcast\\\\amazon_forecast/ldas_fcst_2001_dec01.nc',\n",
       " 'C:\\\\Users\\\\Kris\\\\Documents\\\\amazonforecast\\\\data\\\\hindcast\\\\amazon_forecast/ldas_fcst_2002_dec01.nc',\n",
       " 'C:\\\\Users\\\\Kris\\\\Documents\\\\amazonforecast\\\\data\\\\hindcast\\\\amazon_forecast/ldas_fcst_2003_dec01.nc',\n",
       " 'C:\\\\Users\\\\Kris\\\\Documents\\\\amazonforecast\\\\data\\\\hindcast\\\\amazon_forecast/ldas_fcst_2004_dec01.nc',\n",
       " 'C:\\\\Users\\\\Kris\\\\Documents\\\\amazonforecast\\\\data\\\\hindcast\\\\amazon_forecast/ldas_fcst_2005_dec01.nc',\n",
       " 'C:\\\\Users\\\\Kris\\\\Documents\\\\amazonforecast\\\\data\\\\hindcast\\\\amazon_forecast/ldas_fcst_2006_dec01.nc',\n",
       " 'C:\\\\Users\\\\Kris\\\\Documents\\\\amazonforecast\\\\data\\\\hindcast\\\\amazon_forecast/ldas_fcst_2007_dec01.nc',\n",
       " 'C:\\\\Users\\\\Kris\\\\Documents\\\\amazonforecast\\\\data\\\\hindcast\\\\amazon_forecast/ldas_fcst_2008_dec01.nc',\n",
       " 'C:\\\\Users\\\\Kris\\\\Documents\\\\amazonforecast\\\\data\\\\hindcast\\\\amazon_forecast/ldas_fcst_2009_dec01.nc',\n",
       " 'C:\\\\Users\\\\Kris\\\\Documents\\\\amazonforecast\\\\data\\\\hindcast\\\\amazon_forecast/ldas_fcst_2010_dec01.nc',\n",
       " 'C:\\\\Users\\\\Kris\\\\Documents\\\\amazonforecast\\\\data\\\\hindcast\\\\amazon_forecast/ldas_fcst_2011_dec01.nc',\n",
       " 'C:\\\\Users\\\\Kris\\\\Documents\\\\amazonforecast\\\\data\\\\hindcast\\\\amazon_forecast/ldas_fcst_2012_dec01.nc',\n",
       " 'C:\\\\Users\\\\Kris\\\\Documents\\\\amazonforecast\\\\data\\\\hindcast\\\\amazon_forecast/ldas_fcst_2013_dec01.nc',\n",
       " 'C:\\\\Users\\\\Kris\\\\Documents\\\\amazonforecast\\\\data\\\\hindcast\\\\amazon_forecast/ldas_fcst_2014_dec01.nc',\n",
       " 'C:\\\\Users\\\\Kris\\\\Documents\\\\amazonforecast\\\\data\\\\hindcast\\\\amazon_forecast/ldas_fcst_2015_dec01.nc',\n",
       " 'C:\\\\Users\\\\Kris\\\\Documents\\\\amazonforecast\\\\data\\\\hindcast\\\\amazon_forecast/ldas_fcst_2016_dec01.nc',\n",
       " 'C:\\\\Users\\\\Kris\\\\Documents\\\\amazonforecast\\\\data\\\\hindcast\\\\amazon_forecast/ldas_fcst_2017_dec01.nc',\n",
       " 'C:\\\\Users\\\\Kris\\\\Documents\\\\amazonforecast\\\\data\\\\hindcast\\\\amazon_forecast/ldas_fcst_2018_dec01.nc',\n",
       " 'C:\\\\Users\\\\Kris\\\\Documents\\\\amazonforecast\\\\data\\\\hindcast\\\\amazon_forecast/ldas_fcst_2019_dec01.nc',\n",
       " 'C:\\\\Users\\\\Kris\\\\Documents\\\\amazonforecast\\\\data\\\\hindcast\\\\amazon_forecast/ldas_fcst_2020_dec01.nc',\n",
       " 'C:\\\\Users\\\\Kris\\\\Documents\\\\amazonforecast\\\\data\\\\hindcast\\\\amazon_forecast/ldas_fcst_2021_dec01.nc',\n",
       " 'C:\\\\Users\\\\Kris\\\\Documents\\\\amazonforecast\\\\data\\\\hindcast\\\\amazon_forecast/ldas_fcst_2022_dec01.nc',\n",
       " 'C:\\\\Users\\\\Kris\\\\Documents\\\\amazonforecast\\\\data\\\\hindcast\\\\amazon_forecast/ldas_fcst_2023_dec01.nc']"
      ]
     },
     "execution_count": 6,
     "metadata": {},
     "output_type": "execute_result"
    }
   ],
   "source": [
    "workspace_directory = os.getcwd()\n",
    "surface_model_file_path = rf\"C:\\Users\\Kris\\Documents\\amazonforecast\\data\\hindcast\\amazon_forecast\"\n",
    "forecast_data_file_path = surface_model_file_path + rf\"/ldas_fcst_2024_dec01.nc\"\n",
    "\n",
    "year = 2024\n",
    "month = 'dec'\n",
    "\n",
    "hindcast_data_file_path = []\n",
    "for i in range(2001, year):\n",
    "    hindcast_data_file_path.append(surface_model_file_path + os.path.join(rf\"/ldas_fcst_{i}_{month}01.nc\"))\n",
    "\n",
    "hindcast_data_file_path"
   ]
  },
  {
   "cell_type": "code",
   "execution_count": 9,
   "id": "0b086dd9",
   "metadata": {},
   "outputs": [
    {
     "data": {
      "text/plain": [
       "\"\\nsurface_variable_unit = {'Rainf_tavg':'mm/day',\\n                         'Qair_f_tavg':'g/kg',\\n                         'Qs_tavg':'mm/day', \\n                         'Evap_tavg':'mm/day',\\n                         'Tair_f_tavg':'degree Celsius', \\n                         'SoilMoist_inst':'m^3 m-3', \\n                         'SoilTemp_inst':'degree Celsius'}\\n\""
      ]
     },
     "execution_count": 9,
     "metadata": {},
     "output_type": "execute_result"
    }
   ],
   "source": [
    "## Global variables\n",
    "surface_variable_short = ['Rainf_tavg', 'Qair_f_tavg',\n",
    "                          'Qs_tavg','Evap_tavg', 'Tair_f_tavg',\n",
    "                          'SoilMoist_inst', 'SoilTemp_inst', 'Streamflow_tavg']\n",
    "\n",
    "surface_variable_long = ['precipitation rate', 'specific humidity', 'surface runoff',\n",
    "                         'total evapotranspiration', 'avg. air temperature', 'soil moisture content', 'soiltemp inst', 'stream flow']\n",
    "\"\"\"\n",
    "surface_variable_unit = {'Rainf_tavg':'mm/day',\n",
    "                         'Qair_f_tavg':'g/kg',\n",
    "                         'Qs_tavg':'mm/day', \n",
    "                         'Evap_tavg':'mm/day',\n",
    "                         'Tair_f_tavg':'degree Celsius', \n",
    "                         'SoilMoist_inst':'m^3 m-3', \n",
    "                         'SoilTemp_inst':'degree Celsius'}\n",
    "\"\"\""
   ]
  },
  {
   "cell_type": "code",
   "execution_count": 10,
   "id": "5f7c2058",
   "metadata": {},
   "outputs": [
    {
     "name": "stdout",
     "output_type": "stream",
     "text": [
      "precipitation rate\n",
      "Saved climatology values for Rainf_tavg!\n",
      "specific humidity\n",
      "Saved climatology values for Qair_f_tavg!\n",
      "surface runoff\n",
      "Saved climatology values for Qs_tavg!\n",
      "total evapotranspiration\n",
      "Saved climatology values for Evap_tavg!\n",
      "avg. air temperature\n",
      "Saved climatology values for Tair_f_tavg!\n",
      "soil moisture content\n",
      "Saved climatology values for SoilMoist_inst!\n",
      "soiltemp inst\n",
      "Saved climatology values for SoilTemp_inst!\n",
      "stream flow\n",
      "Saved climatology values for Streamflow_tavg!\n"
     ]
    }
   ],
   "source": [
    "for variable, variable_longname in zip(surface_variable_short, surface_variable_long):\n",
    "    \n",
    "    print(variable_longname)\n",
    "\n",
    "    hindcast = read_trim_hindcast(hindcast_data_file_path, va=variable)\n",
    "\n",
    "    initialization_date = '2024-12-31'\n",
    "    forecast  = read_trim_forecast(forecast_data_file_path, variable)\n",
    "\n",
    "    climatology = initialize_climatology(hindcast_data_file_path, variable)\n",
    "\n",
    "    #anomaly = get_anomaly(forecast_data_file_path, climatology, variable)\n",
    "\n",
    "    file_savepath = workspace_directory + '/get_deterministic_climatology/deterministic_' + initialization_date.replace('-','_')\n",
    "    #create_directory(file_savepath)\n",
    "    #anomaly.to_netcdf(file_savepath + '_deterministic_anomaly_' + str(variable) + '.nc')\n",
    "\n",
    "    climatology.to_netcdf(file_savepath + '_climatology_' + str(variable) + '.nc')\n",
    "    print('Saved climatology values for ' + str(variable) + '!')"
   ]
  },
  {
   "cell_type": "code",
   "execution_count": null,
   "id": "25518fd7",
   "metadata": {},
   "outputs": [],
   "source": []
  }
 ],
 "metadata": {
  "kernelspec": {
   "display_name": "base",
   "language": "python",
   "name": "python3"
  },
  "language_info": {
   "codemirror_mode": {
    "name": "ipython",
    "version": 3
   },
   "file_extension": ".py",
   "mimetype": "text/x-python",
   "name": "python",
   "nbconvert_exporter": "python",
   "pygments_lexer": "ipython3",
   "version": "3.11.7"
  }
 },
 "nbformat": 4,
 "nbformat_minor": 5
}
